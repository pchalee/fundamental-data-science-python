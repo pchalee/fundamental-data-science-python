{
 "cells": [
  {
   "cell_type": "markdown",
   "metadata": {},
   "source": [
    "# Workshop # 7"
   ]
  },
  {
   "cell_type": "code",
   "execution_count": 1,
   "metadata": {},
   "outputs": [],
   "source": [
    "#Import Python Libraries\n",
    "import numpy as np\n",
    "import pandas as pd\n",
    "import matplotlib.pyplot as plt\n",
    "import seaborn as sns"
   ]
  },
  {
   "cell_type": "code",
   "execution_count": 66,
   "metadata": {},
   "outputs": [
    {
     "data": {
      "text/plain": [
       "Index(['PassengerId', 'Survived', 'Pclass', 'Name', 'Sex', 'Age', 'SibSp',\n",
       "       'Parch', 'Ticket', 'Fare', 'Cabin', 'Embarked'],\n",
       "      dtype='object')"
      ]
     },
     "execution_count": 66,
     "metadata": {},
     "output_type": "execute_result"
    }
   ],
   "source": [
    "\n",
    "df = pd.read_csv(\"titanic-train.csv\")\n",
    "\n",
    "df.columns"
   ]
  },
  {
   "cell_type": "code",
   "execution_count": 68,
   "metadata": {},
   "outputs": [
    {
     "data": {
      "text/html": [
       "<div>\n",
       "<style scoped>\n",
       "    .dataframe tbody tr th:only-of-type {\n",
       "        vertical-align: middle;\n",
       "    }\n",
       "\n",
       "    .dataframe tbody tr th {\n",
       "        vertical-align: top;\n",
       "    }\n",
       "\n",
       "    .dataframe thead th {\n",
       "        text-align: right;\n",
       "    }\n",
       "</style>\n",
       "<table border=\"1\" class=\"dataframe\">\n",
       "  <thead>\n",
       "    <tr style=\"text-align: right;\">\n",
       "      <th></th>\n",
       "      <th>Survived</th>\n",
       "      <th>Pclass</th>\n",
       "      <th>Sex</th>\n",
       "      <th>Age</th>\n",
       "      <th>SibSp</th>\n",
       "      <th>Parch</th>\n",
       "    </tr>\n",
       "  </thead>\n",
       "  <tbody>\n",
       "    <tr>\n",
       "      <th>0</th>\n",
       "      <td>0</td>\n",
       "      <td>3</td>\n",
       "      <td>male</td>\n",
       "      <td>22.0</td>\n",
       "      <td>1</td>\n",
       "      <td>0</td>\n",
       "    </tr>\n",
       "    <tr>\n",
       "      <th>1</th>\n",
       "      <td>1</td>\n",
       "      <td>1</td>\n",
       "      <td>female</td>\n",
       "      <td>38.0</td>\n",
       "      <td>1</td>\n",
       "      <td>0</td>\n",
       "    </tr>\n",
       "    <tr>\n",
       "      <th>2</th>\n",
       "      <td>1</td>\n",
       "      <td>3</td>\n",
       "      <td>female</td>\n",
       "      <td>26.0</td>\n",
       "      <td>0</td>\n",
       "      <td>0</td>\n",
       "    </tr>\n",
       "    <tr>\n",
       "      <th>3</th>\n",
       "      <td>1</td>\n",
       "      <td>1</td>\n",
       "      <td>female</td>\n",
       "      <td>35.0</td>\n",
       "      <td>1</td>\n",
       "      <td>0</td>\n",
       "    </tr>\n",
       "    <tr>\n",
       "      <th>4</th>\n",
       "      <td>0</td>\n",
       "      <td>3</td>\n",
       "      <td>male</td>\n",
       "      <td>35.0</td>\n",
       "      <td>0</td>\n",
       "      <td>0</td>\n",
       "    </tr>\n",
       "  </tbody>\n",
       "</table>\n",
       "</div>"
      ],
      "text/plain": [
       "   Survived  Pclass     Sex   Age  SibSp  Parch\n",
       "0         0       3    male  22.0      1      0\n",
       "1         1       1  female  38.0      1      0\n",
       "2         1       3  female  26.0      0      0\n",
       "3         1       1  female  35.0      1      0\n",
       "4         0       3    male  35.0      0      0"
      ]
     },
     "execution_count": 68,
     "metadata": {},
     "output_type": "execute_result"
    }
   ],
   "source": [
    "df2 = df.loc[:,['Survived', 'Pclass', 'Sex', 'Age', 'SibSp', 'Parch']]\n",
    "df2.head()"
   ]
  },
  {
   "cell_type": "code",
   "execution_count": 69,
   "metadata": {},
   "outputs": [
    {
     "name": "stdout",
     "output_type": "stream",
     "text": [
      "Age missing  177\n",
      "PClass missing  0\n",
      "SibSp missing  0\n",
      "Parch missing  0\n",
      "Survived missing  0\n"
     ]
    }
   ],
   "source": [
    "print('Age missing ', df2['Age'].isnull().sum())\n",
    "print('PClass missing ', df2['Pclass'].isnull().sum())\n",
    "print('SibSp missing ', df2['SibSp'].isnull().sum())\n",
    "print('Parch missing ', df2['Parch'].isnull().sum())\n",
    "print('Survived missing ', df2['Survived'].isnull().sum())"
   ]
  },
  {
   "cell_type": "code",
   "execution_count": 70,
   "metadata": {},
   "outputs": [
    {
     "name": "stdout",
     "output_type": "stream",
     "text": [
      "Age missing  0\n"
     ]
    }
   ],
   "source": [
    "df2['Age'] = df2['Age'].fillna(df2['Age'].mean())\n",
    "\n",
    "print('Age missing ', df2['Age'].isnull().sum())"
   ]
  },
  {
   "cell_type": "code",
   "execution_count": 71,
   "metadata": {},
   "outputs": [
    {
     "data": {
      "text/plain": [
       "Index(['Survived', 'Pclass', 'Sex', 'Age', 'SibSp', 'Parch'], dtype='object')"
      ]
     },
     "execution_count": 71,
     "metadata": {},
     "output_type": "execute_result"
    }
   ],
   "source": [
    "df2.columns"
   ]
  },
  {
   "cell_type": "code",
   "execution_count": 72,
   "metadata": {},
   "outputs": [
    {
     "data": {
      "text/html": [
       "<div>\n",
       "<style scoped>\n",
       "    .dataframe tbody tr th:only-of-type {\n",
       "        vertical-align: middle;\n",
       "    }\n",
       "\n",
       "    .dataframe tbody tr th {\n",
       "        vertical-align: top;\n",
       "    }\n",
       "\n",
       "    .dataframe thead th {\n",
       "        text-align: right;\n",
       "    }\n",
       "</style>\n",
       "<table border=\"1\" class=\"dataframe\">\n",
       "  <thead>\n",
       "    <tr style=\"text-align: right;\">\n",
       "      <th></th>\n",
       "      <th>Survived</th>\n",
       "      <th>Pclass</th>\n",
       "      <th>Age</th>\n",
       "      <th>SibSp</th>\n",
       "      <th>Parch</th>\n",
       "      <th>Sex_female</th>\n",
       "      <th>Sex_male</th>\n",
       "    </tr>\n",
       "  </thead>\n",
       "  <tbody>\n",
       "    <tr>\n",
       "      <th>0</th>\n",
       "      <td>0</td>\n",
       "      <td>3</td>\n",
       "      <td>22.0</td>\n",
       "      <td>1</td>\n",
       "      <td>0</td>\n",
       "      <td>0</td>\n",
       "      <td>1</td>\n",
       "    </tr>\n",
       "    <tr>\n",
       "      <th>1</th>\n",
       "      <td>1</td>\n",
       "      <td>1</td>\n",
       "      <td>38.0</td>\n",
       "      <td>1</td>\n",
       "      <td>0</td>\n",
       "      <td>1</td>\n",
       "      <td>0</td>\n",
       "    </tr>\n",
       "    <tr>\n",
       "      <th>2</th>\n",
       "      <td>1</td>\n",
       "      <td>3</td>\n",
       "      <td>26.0</td>\n",
       "      <td>0</td>\n",
       "      <td>0</td>\n",
       "      <td>1</td>\n",
       "      <td>0</td>\n",
       "    </tr>\n",
       "    <tr>\n",
       "      <th>3</th>\n",
       "      <td>1</td>\n",
       "      <td>1</td>\n",
       "      <td>35.0</td>\n",
       "      <td>1</td>\n",
       "      <td>0</td>\n",
       "      <td>1</td>\n",
       "      <td>0</td>\n",
       "    </tr>\n",
       "    <tr>\n",
       "      <th>4</th>\n",
       "      <td>0</td>\n",
       "      <td>3</td>\n",
       "      <td>35.0</td>\n",
       "      <td>0</td>\n",
       "      <td>0</td>\n",
       "      <td>0</td>\n",
       "      <td>1</td>\n",
       "    </tr>\n",
       "  </tbody>\n",
       "</table>\n",
       "</div>"
      ],
      "text/plain": [
       "   Survived  Pclass   Age  SibSp  Parch  Sex_female  Sex_male\n",
       "0         0       3  22.0      1      0           0         1\n",
       "1         1       1  38.0      1      0           1         0\n",
       "2         1       3  26.0      0      0           1         0\n",
       "3         1       1  35.0      1      0           1         0\n",
       "4         0       3  35.0      0      0           0         1"
      ]
     },
     "execution_count": 72,
     "metadata": {},
     "output_type": "execute_result"
    }
   ],
   "source": [
    "df3 = pd.get_dummies(df2)\n",
    "df3.head()"
   ]
  },
  {
   "cell_type": "code",
   "execution_count": 74,
   "metadata": {},
   "outputs": [
    {
     "name": "stdout",
     "output_type": "stream",
     "text": [
      "Labels for training and testing data\n",
      "     Pclass  Sex_female  Sex_male        Age  SibSp  Parch\n",
      "416       2           1         0  34.000000      1      1\n",
      "801       2           1         0  31.000000      1      1\n",
      "512       1           0         1  36.000000      0      0\n",
      "455       3           0         1  29.000000      0      0\n",
      "757       2           0         1  18.000000      0      0\n",
      "275       1           1         0  63.000000      1      0\n",
      "121       3           0         1  29.699118      0      0\n",
      "443       2           1         0  28.000000      0      0\n",
      "458       2           1         0  50.000000      0      0\n",
      "653       3           1         0  29.699118      0      0\n",
      "725       3           0         1  20.000000      0      0\n",
      "395       3           0         1  22.000000      0      0\n",
      "754       2           1         0  48.000000      1      2\n",
      "40        3           1         0  40.000000      1      0\n",
      "217       2           0         1  42.000000      1      0\n",
      "457       1           1         0  29.699118      1      0\n",
      "732       2           0         1  29.699118      0      0\n",
      "469       3           1         0   0.750000      2      1\n",
      "250       3           0         1  29.699118      0      0\n",
      "124       1           0         1  54.000000      0      1\n",
      "470       3           0         1  29.699118      0      0\n",
      "291       1           1         0  19.000000      1      0\n",
      "169       3           0         1  28.000000      0      0\n",
      "300       3           1         0  29.699118      0      0\n",
      "666       2           0         1  25.000000      0      0\n",
      "885       3           1         0  39.000000      0      5\n",
      "34        1           0         1  28.000000      1      0\n",
      "348       3           0         1   3.000000      1      1\n",
      "163       3           0         1  17.000000      0      0\n",
      "159       3           0         1  29.699118      8      2\n",
      "..      ...         ...       ...        ...    ...    ...\n",
      "817       2           0         1  31.000000      1      1\n",
      "68        3           1         0  17.000000      4      2\n",
      "208       3           1         0  16.000000      0      0\n",
      "608       2           1         0  22.000000      1      2\n",
      "420       3           0         1  29.699118      0      0\n",
      "253       3           0         1  30.000000      1      0\n",
      "846       3           0         1  29.699118      8      2\n",
      "339       1           0         1  45.000000      0      0\n",
      "409       3           1         0  29.699118      3      1\n",
      "111       3           1         0  14.500000      1      0\n",
      "224       1           0         1  38.000000      1      0\n",
      "544       1           0         1  50.000000      1      0\n",
      "73        3           0         1  26.000000      1      0\n",
      "47        3           1         0  29.699118      0      0\n",
      "638       3           1         0  41.000000      0      5\n",
      "113       3           1         0  20.000000      1      0\n",
      "96        1           0         1  71.000000      0      0\n",
      "737       1           0         1  35.000000      0      0\n",
      "214       3           0         1  29.699118      1      0\n",
      "569       3           0         1  32.000000      0      0\n",
      "123       2           1         0  32.500000      0      0\n",
      "106       3           1         0  21.000000      0      0\n",
      "595       3           0         1  36.000000      1      1\n",
      "17        2           0         1  29.699118      0      0\n",
      "742       1           1         0  21.000000      2      2\n",
      "98        2           1         0  34.000000      0      1\n",
      "322       2           1         0  30.000000      0      0\n",
      "382       3           0         1  32.000000      0      0\n",
      "365       3           0         1  30.000000      0      0\n",
      "510       3           0         1  29.000000      0      0\n",
      "\n",
      "[623 rows x 6 columns]\n"
     ]
    },
    {
     "name": "stderr",
     "output_type": "stream",
     "text": [
      "/Users/kris/anaconda3/anaconda/lib/python3.6/site-packages/sklearn/model_selection/_split.py:2026: FutureWarning: From version 0.21, test_size will always complement train_size unless both are specified.\n",
      "  FutureWarning)\n"
     ]
    }
   ],
   "source": [
    "from sklearn.model_selection import train_test_split\n",
    "\n",
    "train_X, test_X, train_y, test_y = train_test_split(df3[['Pclass','Sex_female','Sex_male','Age','SibSp','Parch']], \n",
    "                                                    df3['Survived'], \n",
    "                                                    train_size=0.7, \n",
    "                                                    random_state=123)\n",
    "print(\"Labels for training and testing data\")\n",
    "print(train_X)"
   ]
  },
  {
   "cell_type": "code",
   "execution_count": 75,
   "metadata": {},
   "outputs": [],
   "source": [
    "from sklearn.preprocessing import StandardScaler\n",
    "scaler = StandardScaler()\n",
    "train_X = scaler.fit_transform(train_X)\n",
    "test_X = scaler.transform(test_X)"
   ]
  },
  {
   "cell_type": "code",
   "execution_count": 30,
   "metadata": {},
   "outputs": [
    {
     "name": "stdout",
     "output_type": "stream",
     "text": [
      "[[-0.38650536 -1.34398895  0.32679126  0.42278951  0.80910353]\n",
      " [-0.38650536 -1.34398895  0.09075797  0.42278951  0.80910353]\n",
      " [-1.59046957  0.74405373  0.48414679 -0.45228645 -0.46702685]\n",
      " ...\n",
      " [ 0.81745884  0.74405373  0.16943573 -0.45228645 -0.46702685]\n",
      " [ 0.81745884  0.74405373  0.01208021 -0.45228645 -0.46702685]\n",
      " [ 0.81745884  0.74405373 -0.06659756 -0.45228645 -0.46702685]]\n"
     ]
    }
   ],
   "source": [
    "print(train_X)"
   ]
  },
  {
   "cell_type": "code",
   "execution_count": 76,
   "metadata": {},
   "outputs": [
    {
     "data": {
      "text/plain": [
       "MLPClassifier(activation='relu', alpha=0.0001, batch_size='auto', beta_1=0.9,\n",
       "       beta_2=0.999, early_stopping=False, epsilon=1e-08,\n",
       "       hidden_layer_sizes=2, learning_rate='constant',\n",
       "       learning_rate_init=0.01, max_iter=500, momentum=0.9,\n",
       "       nesterovs_momentum=True, power_t=0.5, random_state=None,\n",
       "       shuffle=True, solver='sgd', tol=0.0001, validation_fraction=0.1,\n",
       "       verbose=False, warm_start=False)"
      ]
     },
     "execution_count": 76,
     "metadata": {},
     "output_type": "execute_result"
    }
   ],
   "source": [
    "from sklearn.neural_network import MLPClassifier\n",
    "\n",
    "mlp = MLPClassifier(hidden_layer_sizes=(2),solver='sgd',learning_rate_init=0.01,max_iter=500)\n",
    "mlp.fit(train_X,train_y)"
   ]
  },
  {
   "cell_type": "code",
   "execution_count": 77,
   "metadata": {},
   "outputs": [],
   "source": [
    "\n",
    "from sklearn.metrics import classification_report\n",
    "from sklearn.metrics import confusion_matrix\n"
   ]
  },
  {
   "cell_type": "code",
   "execution_count": 78,
   "metadata": {},
   "outputs": [
    {
     "name": "stdout",
     "output_type": "stream",
     "text": [
      "Predicting Titanic on the test set using Multi-Layer Precepiton\n",
      "             precision    recall  f1-score   support\n",
      "\n",
      "          0       0.84      0.86      0.85       170\n",
      "          1       0.76      0.72      0.74        98\n",
      "\n",
      "avg / total       0.81      0.81      0.81       268\n",
      "\n",
      "[[147  23]\n",
      " [ 27  71]]\n"
     ]
    }
   ],
   "source": [
    "print(\"Predicting Titanic on the test set using Multi-Layer Precepiton\")\n",
    "\n",
    "y_pred = mlp.predict(test_X)\n",
    "\n",
    "\n",
    "print(classification_report(test_y, y_pred))\n",
    "print(confusion_matrix(test_y, y_pred))\n"
   ]
  },
  {
   "cell_type": "code",
   "execution_count": 79,
   "metadata": {},
   "outputs": [
    {
     "data": {
      "image/png": "[encoded data removed]",
      "text/plain": [
       "<Figure size 432x288 with 2 Axes>"
      ]
     },
     "metadata": {
      "needs_background": "light"
     },
     "output_type": "display_data"
    }
   ],
   "source": [
    "import scikitplot as skplt\n",
    "skplt.metrics.plot_confusion_matrix(test_y, y_pred, normalize=True)\n",
    "plt.show()"
   ]
  },
  {
   "cell_type": "code",
   "execution_count": null,
   "metadata": {},
   "outputs": [],
   "source": []
  }
 ],
 "metadata": {
  "kernelspec": {
   "display_name": "Python 3",
   "language": "python",
   "name": "python3"
  },
  "language_info": {
   "codemirror_mode": {
    "name": "ipython",
    "version": 3
   },
   "file_extension": ".py",
   "mimetype": "text/x-python",
   "name": "python",
   "nbconvert_exporter": "python",
   "pygments_lexer": "ipython3",
   "version": "3.6.6"
  }
 },
 "nbformat": 4,
 "nbformat_minor": 2
}
